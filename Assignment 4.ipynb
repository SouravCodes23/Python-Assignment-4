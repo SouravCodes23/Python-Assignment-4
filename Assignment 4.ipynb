{
 "cells": [
  {
   "cell_type": "code",
   "execution_count": 1,
   "id": "a265ce18-4015-4509-aa1f-85660736dc49",
   "metadata": {},
   "outputs": [],
   "source": [
    "### Create a python program to sort the given list of tuples based on integer value using a lambda function.\n",
    "###[('Sachin Tendulkar', 34357), ('Ricky Ponting', 27483), ('Jack Kallis', 25534), ('Virat Kohli', 24936)]"
   ]
  },
  {
   "cell_type": "code",
   "execution_count": 4,
   "id": "a56d6e27-38ca-45c3-a48b-8384059333a6",
   "metadata": {},
   "outputs": [
    {
     "name": "stdout",
     "output_type": "stream",
     "text": [
      "Virat Kohli: 24936\n",
      "Jack Kallis: 25534\n",
      "Ricky Ponting: 27483\n",
      "Sachin Tendulkar: 34357\n"
     ]
    }
   ],
   "source": [
    "list_data = [('Sachin Tendulkar', 34357), ('Ricky Ponting', 27483), ('Jack Kallis', 25534), ('Virat Kohli', 24936)]\n",
    "\n",
    "sorted_data = sorted(list_data, key = lambda x: x[1])\n",
    "\n",
    "for player, runs in sorted_data:\n",
    "    print(f'{player}: {runs}')\n"
   ]
  },
  {
   "cell_type": "code",
   "execution_count": 6,
   "id": "28343d8a-d141-44cd-9313-191090aa68cd",
   "metadata": {},
   "outputs": [],
   "source": [
    "### Write a Python Program to find the squares of all the numbers in the given list of integers using \n",
    "###lambda and map functions.\n",
    "### [1, 2, 3, 4, 5, 6, 7, 8, 9, 10]"
   ]
  },
  {
   "cell_type": "code",
   "execution_count": 8,
   "id": "e3b906fb-baaa-4ea2-b5c1-2903d21e1e45",
   "metadata": {},
   "outputs": [
    {
     "name": "stdout",
     "output_type": "stream",
     "text": [
      "[1, 4, 9, 16, 25, 36, 49, 64, 81, 100]\n"
     ]
    }
   ],
   "source": [
    "numbers = [1,2,3,4,5,6,7,8,9,10]\n",
    "\n",
    "squares = list(map(lambda x: x**2,numbers))\n",
    "print(squares)"
   ]
  },
  {
   "cell_type": "code",
   "execution_count": 9,
   "id": "a1fa463b-4fc0-40dc-98d7-6a889c395bff",
   "metadata": {},
   "outputs": [],
   "source": [
    "### Write a python program to convert the given list of integers into a tuple of strings. Use map and \n",
    "### lambda functions\n",
    "### Given String: [1, 2, 3, 4, 5, 6, 7, 8, 9, 10]\n",
    "### Expected output: ('1', '2', '3', '4', '5', '6', '7', '8', '9', '10')"
   ]
  },
  {
   "cell_type": "code",
   "execution_count": 10,
   "id": "f1302d3b-5a97-4982-acf8-15e06b4c075e",
   "metadata": {},
   "outputs": [
    {
     "name": "stdout",
     "output_type": "stream",
     "text": [
      "('1', '2', '3', '4', '5', '6', '7', '8', '9', '10')\n"
     ]
    }
   ],
   "source": [
    "numbers = [1,2,3,4,5,6,7,8,9,10]\n",
    "string_tuple = tuple(map(lambda x: str(x) ,numbers))\n",
    "print(string_tuple)\n",
    "                "
   ]
  },
  {
   "cell_type": "code",
   "execution_count": 15,
   "id": "959aca33-d019-4f6e-9672-43d84a9f906c",
   "metadata": {},
   "outputs": [],
   "source": [
    "### Write a python program using reduce function to compute the product of a list containing numbers \n",
    "### from 1 to 25"
   ]
  },
  {
   "cell_type": "code",
   "execution_count": 16,
   "id": "d42b8561-8585-41eb-a5d8-0de3efebc863",
   "metadata": {},
   "outputs": [],
   "source": [
    "from functools import reduce"
   ]
  },
  {
   "cell_type": "code",
   "execution_count": 26,
   "id": "4005d290-c25b-4d53-ae97-666173cde808",
   "metadata": {},
   "outputs": [
    {
     "name": "stdout",
     "output_type": "stream",
     "text": [
      "The product of numbers from 1  to  25 is :  15511210043330985984000000\n"
     ]
    }
   ],
   "source": [
    "def multiply (x,y):\n",
    "    return x * y\n",
    "\n",
    "numbers =  range(1,26)\n",
    "product = reduce(multiply,numbers)\n",
    "print(\"The product of numbers from 1  to  25 is : \",product)"
   ]
  },
  {
   "cell_type": "code",
   "execution_count": 27,
   "id": "fbf9b138-dc37-4f77-a7b0-a5419c523474",
   "metadata": {},
   "outputs": [],
   "source": [
    "### Write a python program to filter the numbers in a given list that are divisible by 2 and 3 using the \n",
    "### filter function.\n",
    "### [2, 3, 6, 9, 27, 60, 90, 120, 55, 46]"
   ]
  },
  {
   "cell_type": "code",
   "execution_count": 1,
   "id": "a016389b-934b-465c-9e90-630d91c8c62d",
   "metadata": {},
   "outputs": [
    {
     "name": "stdout",
     "output_type": "stream",
     "text": [
      "Numbers divisible by 2 and 3: [6, 60, 90, 120]\n"
     ]
    }
   ],
   "source": [
    "numbers = [2,3,6,9,27,60,90,120,55,46]\n",
    "divisible_by_2_and_3 = list(filter(lambda x: x%2 == 0 and x % 3 == 0, numbers))\n",
    "print( \"Numbers divisible by 2 and 3:\" , divisible_by_2_and_3)"
   ]
  },
  {
   "cell_type": "code",
   "execution_count": 2,
   "id": "71144217-d025-4bc9-a1aa-e279562d9e05",
   "metadata": {},
   "outputs": [],
   "source": [
    "### Write a python program to find palindromes in the given list of strings using lambda and filter \n",
    "### function.\n",
    "### ['python', 'php', 'aba', 'radar', 'level']"
   ]
  },
  {
   "cell_type": "code",
   "execution_count": 12,
   "id": "317e7170-dea3-4435-8ccf-b7b2a8004686",
   "metadata": {},
   "outputs": [
    {
     "name": "stdout",
     "output_type": "stream",
     "text": [
      "Palindromes in the list: ['php', 'aba', 'radar', 'level']\n"
     ]
    }
   ],
   "source": [
    "\n",
    "strings = ['python', 'php', 'aba', 'radar', 'level']\n",
    "\n",
    "palindromes = list(filter(lambda s: s == s[::-1], strings))\n",
    "\n",
    "print(\"Palindromes in the list:\", palindromes)\n"
   ]
  },
  {
   "cell_type": "code",
   "execution_count": null,
   "id": "08095348-146b-4d08-9a37-03d0abaec25c",
   "metadata": {},
   "outputs": [],
   "source": []
  }
 ],
 "metadata": {
  "kernelspec": {
   "display_name": "Python 3 (ipykernel)",
   "language": "python",
   "name": "python3"
  },
  "language_info": {
   "codemirror_mode": {
    "name": "ipython",
    "version": 3
   },
   "file_extension": ".py",
   "mimetype": "text/x-python",
   "name": "python",
   "nbconvert_exporter": "python",
   "pygments_lexer": "ipython3",
   "version": "3.10.8"
  }
 },
 "nbformat": 4,
 "nbformat_minor": 5
}
